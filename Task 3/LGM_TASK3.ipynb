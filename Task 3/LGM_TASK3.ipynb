{
  "nbformat": 4,
  "nbformat_minor": 0,
  "metadata": {
    "colab": {
      "name": "STOCK MARKET PREDICTION(TASK3).ipynb",
      "provenance": []
    },
    "kernelspec": {
      "name": "python3",
      "display_name": "Python 3"
    },
    "language_info": {
      "name": "python"
    }
  },
  "cells": [
    {
      "cell_type": "markdown",
      "metadata": {
        "id": "NdqDmbwQhXC2"
      },
      "source": [
        "## **LGMVIP INTERN**\n",
        "# **TASK3: Stock Market Prediction And Forecasting Using Stacked LSTM**\n",
        "## **PROJECT LEVEL: BEGINNER**"
      ]
    },
    {
      "cell_type": "code",
      "metadata": {
        "id": "k3ZgTyEgTK8i"
      },
      "source": [
        "# Importing the libraries\n",
        "import numpy as np\n",
        "import matplotlib.pyplot as plt\n",
        "import pandas as pd"
      ],
      "execution_count": null,
      "outputs": []
    },
    {
      "cell_type": "code",
      "metadata": {
        "id": "rNn0Cin3TL9R"
      },
      "source": [
        "dataset_train = pd.read_csv('https://raw.githubusercontent.com/mwitiderrick/stockprice/master/NSE-TATAGLOBAL.csv')"
      ],
      "execution_count": null,
      "outputs": []
    },
    {
      "cell_type": "code",
      "metadata": {
        "colab": {
          "base_uri": "https://localhost:8080/",
          "height": 204
        },
        "id": "ZFPrhit0TSws",
        "outputId": "be24fecb-160a-4ba3-f22c-094a891cc69f"
      },
      "source": [
        "# Part 1 - Data Preprocessing\n",
        "\n",
        "dataset_train.head()"
      ],
      "execution_count": null,
      "outputs": [
        {
          "output_type": "execute_result",
          "data": {
            "text/html": [
              "<div>\n",
              "<style scoped>\n",
              "    .dataframe tbody tr th:only-of-type {\n",
              "        vertical-align: middle;\n",
              "    }\n",
              "\n",
              "    .dataframe tbody tr th {\n",
              "        vertical-align: top;\n",
              "    }\n",
              "\n",
              "    .dataframe thead th {\n",
              "        text-align: right;\n",
              "    }\n",
              "</style>\n",
              "<table border=\"1\" class=\"dataframe\">\n",
              "  <thead>\n",
              "    <tr style=\"text-align: right;\">\n",
              "      <th></th>\n",
              "      <th>Date</th>\n",
              "      <th>Open</th>\n",
              "      <th>High</th>\n",
              "      <th>Low</th>\n",
              "      <th>Last</th>\n",
              "      <th>Close</th>\n",
              "      <th>Total Trade Quantity</th>\n",
              "      <th>Turnover (Lacs)</th>\n",
              "    </tr>\n",
              "  </thead>\n",
              "  <tbody>\n",
              "    <tr>\n",
              "      <th>0</th>\n",
              "      <td>2018-09-28</td>\n",
              "      <td>234.05</td>\n",
              "      <td>235.95</td>\n",
              "      <td>230.20</td>\n",
              "      <td>233.50</td>\n",
              "      <td>233.75</td>\n",
              "      <td>3069914</td>\n",
              "      <td>7162.35</td>\n",
              "    </tr>\n",
              "    <tr>\n",
              "      <th>1</th>\n",
              "      <td>2018-09-27</td>\n",
              "      <td>234.55</td>\n",
              "      <td>236.80</td>\n",
              "      <td>231.10</td>\n",
              "      <td>233.80</td>\n",
              "      <td>233.25</td>\n",
              "      <td>5082859</td>\n",
              "      <td>11859.95</td>\n",
              "    </tr>\n",
              "    <tr>\n",
              "      <th>2</th>\n",
              "      <td>2018-09-26</td>\n",
              "      <td>240.00</td>\n",
              "      <td>240.00</td>\n",
              "      <td>232.50</td>\n",
              "      <td>235.00</td>\n",
              "      <td>234.25</td>\n",
              "      <td>2240909</td>\n",
              "      <td>5248.60</td>\n",
              "    </tr>\n",
              "    <tr>\n",
              "      <th>3</th>\n",
              "      <td>2018-09-25</td>\n",
              "      <td>233.30</td>\n",
              "      <td>236.75</td>\n",
              "      <td>232.00</td>\n",
              "      <td>236.25</td>\n",
              "      <td>236.10</td>\n",
              "      <td>2349368</td>\n",
              "      <td>5503.90</td>\n",
              "    </tr>\n",
              "    <tr>\n",
              "      <th>4</th>\n",
              "      <td>2018-09-24</td>\n",
              "      <td>233.55</td>\n",
              "      <td>239.20</td>\n",
              "      <td>230.75</td>\n",
              "      <td>234.00</td>\n",
              "      <td>233.30</td>\n",
              "      <td>3423509</td>\n",
              "      <td>7999.55</td>\n",
              "    </tr>\n",
              "  </tbody>\n",
              "</table>\n",
              "</div>"
            ],
            "text/plain": [
              "         Date    Open    High  ...   Close  Total Trade Quantity  Turnover (Lacs)\n",
              "0  2018-09-28  234.05  235.95  ...  233.75               3069914          7162.35\n",
              "1  2018-09-27  234.55  236.80  ...  233.25               5082859         11859.95\n",
              "2  2018-09-26  240.00  240.00  ...  234.25               2240909          5248.60\n",
              "3  2018-09-25  233.30  236.75  ...  236.10               2349368          5503.90\n",
              "4  2018-09-24  233.55  239.20  ...  233.30               3423509          7999.55\n",
              "\n",
              "[5 rows x 8 columns]"
            ]
          },
          "metadata": {},
          "execution_count": 3
        }
      ]
    },
    {
      "cell_type": "code",
      "metadata": {
        "colab": {
          "base_uri": "https://localhost:8080/",
          "height": 204
        },
        "id": "rl-zoo50cmZ8",
        "outputId": "cfd689d5-dc37-4985-96d3-c76145e18d47"
      },
      "source": [
        "dataset_train.tail()"
      ],
      "execution_count": null,
      "outputs": [
        {
          "output_type": "execute_result",
          "data": {
            "text/html": [
              "<div>\n",
              "<style scoped>\n",
              "    .dataframe tbody tr th:only-of-type {\n",
              "        vertical-align: middle;\n",
              "    }\n",
              "\n",
              "    .dataframe tbody tr th {\n",
              "        vertical-align: top;\n",
              "    }\n",
              "\n",
              "    .dataframe thead th {\n",
              "        text-align: right;\n",
              "    }\n",
              "</style>\n",
              "<table border=\"1\" class=\"dataframe\">\n",
              "  <thead>\n",
              "    <tr style=\"text-align: right;\">\n",
              "      <th></th>\n",
              "      <th>Date</th>\n",
              "      <th>Open</th>\n",
              "      <th>High</th>\n",
              "      <th>Low</th>\n",
              "      <th>Last</th>\n",
              "      <th>Close</th>\n",
              "      <th>Total Trade Quantity</th>\n",
              "      <th>Turnover (Lacs)</th>\n",
              "    </tr>\n",
              "  </thead>\n",
              "  <tbody>\n",
              "    <tr>\n",
              "      <th>2030</th>\n",
              "      <td>2010-07-27</td>\n",
              "      <td>117.6</td>\n",
              "      <td>119.50</td>\n",
              "      <td>112.00</td>\n",
              "      <td>118.80</td>\n",
              "      <td>118.65</td>\n",
              "      <td>586100</td>\n",
              "      <td>694.98</td>\n",
              "    </tr>\n",
              "    <tr>\n",
              "      <th>2031</th>\n",
              "      <td>2010-07-26</td>\n",
              "      <td>120.1</td>\n",
              "      <td>121.00</td>\n",
              "      <td>117.10</td>\n",
              "      <td>117.10</td>\n",
              "      <td>117.60</td>\n",
              "      <td>658440</td>\n",
              "      <td>780.01</td>\n",
              "    </tr>\n",
              "    <tr>\n",
              "      <th>2032</th>\n",
              "      <td>2010-07-23</td>\n",
              "      <td>121.8</td>\n",
              "      <td>121.95</td>\n",
              "      <td>120.25</td>\n",
              "      <td>120.35</td>\n",
              "      <td>120.65</td>\n",
              "      <td>281312</td>\n",
              "      <td>340.31</td>\n",
              "    </tr>\n",
              "    <tr>\n",
              "      <th>2033</th>\n",
              "      <td>2010-07-22</td>\n",
              "      <td>120.3</td>\n",
              "      <td>122.00</td>\n",
              "      <td>120.25</td>\n",
              "      <td>120.75</td>\n",
              "      <td>120.90</td>\n",
              "      <td>293312</td>\n",
              "      <td>355.17</td>\n",
              "    </tr>\n",
              "    <tr>\n",
              "      <th>2034</th>\n",
              "      <td>2010-07-21</td>\n",
              "      <td>122.1</td>\n",
              "      <td>123.00</td>\n",
              "      <td>121.05</td>\n",
              "      <td>121.10</td>\n",
              "      <td>121.55</td>\n",
              "      <td>658666</td>\n",
              "      <td>803.56</td>\n",
              "    </tr>\n",
              "  </tbody>\n",
              "</table>\n",
              "</div>"
            ],
            "text/plain": [
              "            Date   Open    High  ...   Close  Total Trade Quantity  Turnover (Lacs)\n",
              "2030  2010-07-27  117.6  119.50  ...  118.65                586100           694.98\n",
              "2031  2010-07-26  120.1  121.00  ...  117.60                658440           780.01\n",
              "2032  2010-07-23  121.8  121.95  ...  120.65                281312           340.31\n",
              "2033  2010-07-22  120.3  122.00  ...  120.90                293312           355.17\n",
              "2034  2010-07-21  122.1  123.00  ...  121.55                658666           803.56\n",
              "\n",
              "[5 rows x 8 columns]"
            ]
          },
          "metadata": {},
          "execution_count": 17
        }
      ]
    },
    {
      "cell_type": "code",
      "metadata": {
        "colab": {
          "base_uri": "https://localhost:8080/"
        },
        "id": "dmYU5KPocqGr",
        "outputId": "6a517d6d-cb24-4445-e969-339f327864af"
      },
      "source": [
        "dataset_train.shape"
      ],
      "execution_count": null,
      "outputs": [
        {
          "output_type": "execute_result",
          "data": {
            "text/plain": [
              "(2035, 8)"
            ]
          },
          "metadata": {},
          "execution_count": 18
        }
      ]
    },
    {
      "cell_type": "code",
      "metadata": {
        "colab": {
          "base_uri": "https://localhost:8080/"
        },
        "id": "u1SWM1x_cywV",
        "outputId": "e86ec2da-8d38-464d-b7bf-892ec2f522fa"
      },
      "source": [
        "dataset_train.info()"
      ],
      "execution_count": null,
      "outputs": [
        {
          "output_type": "stream",
          "name": "stdout",
          "text": [
            "<class 'pandas.core.frame.DataFrame'>\n",
            "RangeIndex: 2035 entries, 0 to 2034\n",
            "Data columns (total 8 columns):\n",
            " #   Column                Non-Null Count  Dtype  \n",
            "---  ------                --------------  -----  \n",
            " 0   Date                  2035 non-null   object \n",
            " 1   Open                  2035 non-null   float64\n",
            " 2   High                  2035 non-null   float64\n",
            " 3   Low                   2035 non-null   float64\n",
            " 4   Last                  2035 non-null   float64\n",
            " 5   Close                 2035 non-null   float64\n",
            " 6   Total Trade Quantity  2035 non-null   int64  \n",
            " 7   Turnover (Lacs)       2035 non-null   float64\n",
            "dtypes: float64(6), int64(1), object(1)\n",
            "memory usage: 127.3+ KB\n"
          ]
        }
      ]
    },
    {
      "cell_type": "code",
      "metadata": {
        "colab": {
          "base_uri": "https://localhost:8080/",
          "height": 297
        },
        "id": "BsU3fuaRc0-J",
        "outputId": "ff50a7ef-3cb9-429d-86c9-e57264cdf84f"
      },
      "source": [
        "dataset_train.describe()"
      ],
      "execution_count": null,
      "outputs": [
        {
          "output_type": "execute_result",
          "data": {
            "text/html": [
              "<div>\n",
              "<style scoped>\n",
              "    .dataframe tbody tr th:only-of-type {\n",
              "        vertical-align: middle;\n",
              "    }\n",
              "\n",
              "    .dataframe tbody tr th {\n",
              "        vertical-align: top;\n",
              "    }\n",
              "\n",
              "    .dataframe thead th {\n",
              "        text-align: right;\n",
              "    }\n",
              "</style>\n",
              "<table border=\"1\" class=\"dataframe\">\n",
              "  <thead>\n",
              "    <tr style=\"text-align: right;\">\n",
              "      <th></th>\n",
              "      <th>Open</th>\n",
              "      <th>High</th>\n",
              "      <th>Low</th>\n",
              "      <th>Last</th>\n",
              "      <th>Close</th>\n",
              "      <th>Total Trade Quantity</th>\n",
              "      <th>Turnover (Lacs)</th>\n",
              "    </tr>\n",
              "  </thead>\n",
              "  <tbody>\n",
              "    <tr>\n",
              "      <th>count</th>\n",
              "      <td>2035.000000</td>\n",
              "      <td>2035.000000</td>\n",
              "      <td>2035.000000</td>\n",
              "      <td>2035.000000</td>\n",
              "      <td>2035.00000</td>\n",
              "      <td>2.035000e+03</td>\n",
              "      <td>2035.000000</td>\n",
              "    </tr>\n",
              "    <tr>\n",
              "      <th>mean</th>\n",
              "      <td>149.713735</td>\n",
              "      <td>151.992826</td>\n",
              "      <td>147.293931</td>\n",
              "      <td>149.474251</td>\n",
              "      <td>149.45027</td>\n",
              "      <td>2.335681e+06</td>\n",
              "      <td>3899.980565</td>\n",
              "    </tr>\n",
              "    <tr>\n",
              "      <th>std</th>\n",
              "      <td>48.664509</td>\n",
              "      <td>49.413109</td>\n",
              "      <td>47.931958</td>\n",
              "      <td>48.732570</td>\n",
              "      <td>48.71204</td>\n",
              "      <td>2.091778e+06</td>\n",
              "      <td>4570.767877</td>\n",
              "    </tr>\n",
              "    <tr>\n",
              "      <th>min</th>\n",
              "      <td>81.100000</td>\n",
              "      <td>82.800000</td>\n",
              "      <td>80.000000</td>\n",
              "      <td>81.000000</td>\n",
              "      <td>80.95000</td>\n",
              "      <td>3.961000e+04</td>\n",
              "      <td>37.040000</td>\n",
              "    </tr>\n",
              "    <tr>\n",
              "      <th>25%</th>\n",
              "      <td>120.025000</td>\n",
              "      <td>122.100000</td>\n",
              "      <td>118.300000</td>\n",
              "      <td>120.075000</td>\n",
              "      <td>120.05000</td>\n",
              "      <td>1.146444e+06</td>\n",
              "      <td>1427.460000</td>\n",
              "    </tr>\n",
              "    <tr>\n",
              "      <th>50%</th>\n",
              "      <td>141.500000</td>\n",
              "      <td>143.400000</td>\n",
              "      <td>139.600000</td>\n",
              "      <td>141.100000</td>\n",
              "      <td>141.25000</td>\n",
              "      <td>1.783456e+06</td>\n",
              "      <td>2512.030000</td>\n",
              "    </tr>\n",
              "    <tr>\n",
              "      <th>75%</th>\n",
              "      <td>157.175000</td>\n",
              "      <td>159.400000</td>\n",
              "      <td>155.150000</td>\n",
              "      <td>156.925000</td>\n",
              "      <td>156.90000</td>\n",
              "      <td>2.813594e+06</td>\n",
              "      <td>4539.015000</td>\n",
              "    </tr>\n",
              "    <tr>\n",
              "      <th>max</th>\n",
              "      <td>327.700000</td>\n",
              "      <td>328.750000</td>\n",
              "      <td>321.650000</td>\n",
              "      <td>325.950000</td>\n",
              "      <td>325.75000</td>\n",
              "      <td>2.919102e+07</td>\n",
              "      <td>55755.080000</td>\n",
              "    </tr>\n",
              "  </tbody>\n",
              "</table>\n",
              "</div>"
            ],
            "text/plain": [
              "              Open         High  ...  Total Trade Quantity  Turnover (Lacs)\n",
              "count  2035.000000  2035.000000  ...          2.035000e+03      2035.000000\n",
              "mean    149.713735   151.992826  ...          2.335681e+06      3899.980565\n",
              "std      48.664509    49.413109  ...          2.091778e+06      4570.767877\n",
              "min      81.100000    82.800000  ...          3.961000e+04        37.040000\n",
              "25%     120.025000   122.100000  ...          1.146444e+06      1427.460000\n",
              "50%     141.500000   143.400000  ...          1.783456e+06      2512.030000\n",
              "75%     157.175000   159.400000  ...          2.813594e+06      4539.015000\n",
              "max     327.700000   328.750000  ...          2.919102e+07     55755.080000\n",
              "\n",
              "[8 rows x 7 columns]"
            ]
          },
          "metadata": {},
          "execution_count": 20
        }
      ]
    },
    {
      "cell_type": "code",
      "metadata": {
        "id": "GG1SCib5c3_P"
      },
      "source": [
        "training_set = dataset_train.iloc[:, 1:2].values"
      ],
      "execution_count": null,
      "outputs": []
    },
    {
      "cell_type": "code",
      "metadata": {
        "colab": {
          "base_uri": "https://localhost:8080/"
        },
        "id": "0u9o8RzRc632",
        "outputId": "669d6167-20a0-4402-d2e8-53b172a50afb"
      },
      "source": [
        "training_set"
      ],
      "execution_count": null,
      "outputs": [
        {
          "output_type": "execute_result",
          "data": {
            "text/plain": [
              "array([[234.05],\n",
              "       [234.55],\n",
              "       [240.  ],\n",
              "       ...,\n",
              "       [121.8 ],\n",
              "       [120.3 ],\n",
              "       [122.1 ]])"
            ]
          },
          "metadata": {},
          "execution_count": 23
        }
      ]
    },
    {
      "cell_type": "code",
      "metadata": {
        "colab": {
          "base_uri": "https://localhost:8080/",
          "height": 265
        },
        "id": "Dv5Cabldf_ww",
        "outputId": "404b03aa-d220-4dfe-eef1-f8dac4e1733f"
      },
      "source": [
        "plt.plot(training_set)\n",
        "plt.show()"
      ],
      "execution_count": null,
      "outputs": [
        {
          "output_type": "display_data",
          "data": {
            "image/png": "[encoded data removed]",
            "text/plain": [
              "<Figure size 432x288 with 1 Axes>"
            ]
          },
          "metadata": {
            "needs_background": "light"
          }
        }
      ]
    },
    {
      "cell_type": "code",
      "metadata": {
        "id": "opBrK2SBTVae"
      },
      "source": [
        "# Feature Scaling\n",
        "from sklearn.preprocessing import MinMaxScaler\n",
        "sc = MinMaxScaler(feature_range = (0, 1))\n",
        "training_set_scaled = sc.fit_transform(training_set)"
      ],
      "execution_count": null,
      "outputs": []
    },
    {
      "cell_type": "code",
      "metadata": {
        "colab": {
          "base_uri": "https://localhost:8080/"
        },
        "id": "rDM59mC0pmHC",
        "outputId": "4ce6dd94-f621-47e9-bc4a-e936b8bb5be0"
      },
      "source": [
        "training_set_scaled"
      ],
      "execution_count": null,
      "outputs": [
        {
          "output_type": "execute_result",
          "data": {
            "text/plain": [
              "array([[0.6202352 ],\n",
              "       [0.62226277],\n",
              "       [0.64436334],\n",
              "       ...,\n",
              "       [0.16504461],\n",
              "       [0.15896188],\n",
              "       [0.16626115]])"
            ]
          },
          "metadata": {},
          "execution_count": 29
        }
      ]
    },
    {
      "cell_type": "code",
      "metadata": {
        "id": "rplFuVwhTaiy"
      },
      "source": [
        "# Creating a data structure with 60 timesteps and 1 output\n",
        "X_train = []\n",
        "y_train = []\n",
        "for i in range(60, 2035):\n",
        "    X_train.append(training_set_scaled[i-60:i, 0])\n",
        "    y_train.append(training_set_scaled[i, 0])\n",
        "X_train, y_train = np.array(X_train), np.array(y_train)"
      ],
      "execution_count": null,
      "outputs": []
    },
    {
      "cell_type": "code",
      "metadata": {
        "id": "rFOONHK8TcrZ"
      },
      "source": [
        "# Reshaping the train data to make it as input for LTSM layer input_shape(batchsize,timesteps,input_dim)\n",
        "X_train = np.reshape(X_train, (X_train.shape[0], X_train.shape[1], 1))"
      ],
      "execution_count": null,
      "outputs": []
    },
    {
      "cell_type": "code",
      "metadata": {
        "id": "-mCGRZDjTe63"
      },
      "source": [
        "# Part 2 - Building the RNN\n",
        "\n",
        "# Importing the Keras libraries and packages\n",
        "from keras.models import Sequential\n",
        "from keras.layers import Dense\n",
        "from keras.layers import LSTM\n",
        "from keras.layers import Dropout"
      ],
      "execution_count": null,
      "outputs": []
    },
    {
      "cell_type": "code",
      "metadata": {
        "id": "AgIayjoZThBj"
      },
      "source": [
        "# Initialising the RNN\n",
        "regressor = Sequential()\n",
        "\n",
        "# Adding the first LSTM layer and some Dropout regularisation\n",
        "regressor.add(LSTM(units = 50, return_sequences = True, input_shape = (X_train.shape[1], 1)))\n",
        "regressor.add(Dropout(0.2))"
      ],
      "execution_count": null,
      "outputs": []
    },
    {
      "cell_type": "code",
      "metadata": {
        "id": "VGHRKm9WTjLi"
      },
      "source": [
        "# Adding a second LSTM layer and some Dropout regularisation\n",
        "regressor.add(LSTM(units = 50, return_sequences = True))\n",
        "regressor.add(Dropout(0.2))"
      ],
      "execution_count": null,
      "outputs": []
    },
    {
      "cell_type": "code",
      "metadata": {
        "id": "n89CHdsCTlTL"
      },
      "source": [
        "# Adding a third LSTM layer and some Dropout regularisation\n",
        "regressor.add(LSTM(units = 50, return_sequences = True))\n",
        "regressor.add(Dropout(0.2))"
      ],
      "execution_count": null,
      "outputs": []
    },
    {
      "cell_type": "code",
      "metadata": {
        "id": "2SkFbxb1TnQS"
      },
      "source": [
        "# Adding a fourth LSTM layer and some Dropout regularisation\n",
        "regressor.add(LSTM(units = 50))\n",
        "regressor.add(Dropout(0.2))"
      ],
      "execution_count": null,
      "outputs": []
    },
    {
      "cell_type": "code",
      "metadata": {
        "colab": {
          "base_uri": "https://localhost:8080/"
        },
        "id": "X_ST5jRQTp-y",
        "outputId": "3ac8fa62-038d-4b69-fd11-685912582b06"
      },
      "source": [
        "# Adding the output layer\n",
        "regressor.add(Dense(units = 1))\n",
        "\n",
        "# Compiling the RNN\n",
        "regressor.compile(optimizer = 'adam', loss = 'mean_squared_error')\n",
        "\n",
        "# Fitting the RNN to the Training set\n",
        "regressor.fit(X_train, y_train, epochs = 100, batch_size = 32)"
      ],
      "execution_count": null,
      "outputs": [
        {
          "output_type": "stream",
          "name": "stdout",
          "text": [
            "Epoch 1/100\n",
            "62/62 [==============================] - 15s 126ms/step - loss: 0.0119\n",
            "Epoch 2/100\n",
            "62/62 [==============================] - 8s 126ms/step - loss: 0.0032\n",
            "Epoch 3/100\n",
            "62/62 [==============================] - 8s 127ms/step - loss: 0.0030\n",
            "Epoch 4/100\n",
            "62/62 [==============================] - 8s 125ms/step - loss: 0.0026\n",
            "Epoch 5/100\n",
            "62/62 [==============================] - 8s 126ms/step - loss: 0.0026\n",
            "Epoch 6/100\n",
            "62/62 [==============================] - 8s 124ms/step - loss: 0.0027\n",
            "Epoch 7/100\n",
            "62/62 [==============================] - 8s 126ms/step - loss: 0.0026\n",
            "Epoch 8/100\n",
            "62/62 [==============================] - 8s 126ms/step - loss: 0.0020\n",
            "Epoch 9/100\n",
            "62/62 [==============================] - 8s 125ms/step - loss: 0.0024\n",
            "Epoch 10/100\n",
            "62/62 [==============================] - 8s 126ms/step - loss: 0.0019\n",
            "Epoch 11/100\n",
            "62/62 [==============================] - 8s 125ms/step - loss: 0.0020\n",
            "Epoch 12/100\n",
            "62/62 [==============================] - 8s 127ms/step - loss: 0.0017\n",
            "Epoch 13/100\n",
            "62/62 [==============================] - 8s 126ms/step - loss: 0.0020\n",
            "Epoch 14/100\n",
            "62/62 [==============================] - 8s 125ms/step - loss: 0.0017\n",
            "Epoch 15/100\n",
            "62/62 [==============================] - 8s 127ms/step - loss: 0.0015\n",
            "Epoch 16/100\n",
            "62/62 [==============================] - 8s 124ms/step - loss: 0.0017\n",
            "Epoch 17/100\n",
            "62/62 [==============================] - 8s 126ms/step - loss: 0.0016\n",
            "Epoch 18/100\n",
            "62/62 [==============================] - 8s 126ms/step - loss: 0.0015\n",
            "Epoch 19/100\n",
            "62/62 [==============================] - 8s 126ms/step - loss: 0.0015\n",
            "Epoch 20/100\n",
            "62/62 [==============================] - 8s 126ms/step - loss: 0.0014\n",
            "Epoch 21/100\n",
            "62/62 [==============================] - 8s 125ms/step - loss: 0.0014\n",
            "Epoch 22/100\n",
            "62/62 [==============================] - 8s 125ms/step - loss: 0.0015\n",
            "Epoch 23/100\n",
            "62/62 [==============================] - 8s 128ms/step - loss: 0.0014\n",
            "Epoch 24/100\n",
            "62/62 [==============================] - 8s 127ms/step - loss: 0.0013\n",
            "Epoch 25/100\n",
            "62/62 [==============================] - 8s 125ms/step - loss: 0.0014\n",
            "Epoch 26/100\n",
            "62/62 [==============================] - 8s 128ms/step - loss: 0.0013\n",
            "Epoch 27/100\n",
            "62/62 [==============================] - 8s 126ms/step - loss: 0.0011\n",
            "Epoch 28/100\n",
            "62/62 [==============================] - 8s 126ms/step - loss: 0.0014\n",
            "Epoch 29/100\n",
            "62/62 [==============================] - 8s 125ms/step - loss: 0.0012\n",
            "Epoch 30/100\n",
            "62/62 [==============================] - 8s 125ms/step - loss: 0.0012\n",
            "Epoch 31/100\n",
            "62/62 [==============================] - 8s 127ms/step - loss: 0.0012\n",
            "Epoch 32/100\n",
            "62/62 [==============================] - 8s 127ms/step - loss: 0.0011\n",
            "Epoch 33/100\n",
            "62/62 [==============================] - 8s 125ms/step - loss: 0.0012\n",
            "Epoch 34/100\n",
            "62/62 [==============================] - 8s 123ms/step - loss: 0.0012\n",
            "Epoch 35/100\n",
            "62/62 [==============================] - 8s 123ms/step - loss: 9.9168e-04\n",
            "Epoch 36/100\n",
            "62/62 [==============================] - 8s 126ms/step - loss: 0.0011\n",
            "Epoch 37/100\n",
            "62/62 [==============================] - 8s 124ms/step - loss: 0.0011\n",
            "Epoch 38/100\n",
            "62/62 [==============================] - 8s 125ms/step - loss: 0.0010\n",
            "Epoch 39/100\n",
            "62/62 [==============================] - 8s 126ms/step - loss: 0.0010\n",
            "Epoch 40/100\n",
            "62/62 [==============================] - 8s 125ms/step - loss: 9.3651e-04\n",
            "Epoch 41/100\n",
            "62/62 [==============================] - 8s 124ms/step - loss: 9.4733e-04\n",
            "Epoch 42/100\n",
            "62/62 [==============================] - 8s 125ms/step - loss: 9.3402e-04\n",
            "Epoch 43/100\n",
            "62/62 [==============================] - 8s 126ms/step - loss: 9.2976e-04\n",
            "Epoch 44/100\n",
            "62/62 [==============================] - 8s 125ms/step - loss: 9.3451e-04\n",
            "Epoch 45/100\n",
            "62/62 [==============================] - 8s 125ms/step - loss: 0.0010\n",
            "Epoch 46/100\n",
            "62/62 [==============================] - 8s 125ms/step - loss: 9.4509e-04\n",
            "Epoch 47/100\n",
            "62/62 [==============================] - 8s 126ms/step - loss: 8.2236e-04\n",
            "Epoch 48/100\n",
            "62/62 [==============================] - 8s 126ms/step - loss: 9.1409e-04\n",
            "Epoch 49/100\n",
            "62/62 [==============================] - 8s 125ms/step - loss: 8.1047e-04\n",
            "Epoch 50/100\n",
            "62/62 [==============================] - 8s 123ms/step - loss: 9.0201e-04\n",
            "Epoch 51/100\n",
            "62/62 [==============================] - 8s 125ms/step - loss: 8.7575e-04\n",
            "Epoch 52/100\n",
            "62/62 [==============================] - 8s 126ms/step - loss: 7.5806e-04\n",
            "Epoch 53/100\n",
            "62/62 [==============================] - 8s 127ms/step - loss: 7.8587e-04\n",
            "Epoch 54/100\n",
            "62/62 [==============================] - 8s 126ms/step - loss: 8.0366e-04\n",
            "Epoch 55/100\n",
            "62/62 [==============================] - 8s 124ms/step - loss: 8.2633e-04\n",
            "Epoch 56/100\n",
            "62/62 [==============================] - 8s 124ms/step - loss: 7.8827e-04\n",
            "Epoch 57/100\n",
            "62/62 [==============================] - 8s 126ms/step - loss: 8.0685e-04\n",
            "Epoch 58/100\n",
            "62/62 [==============================] - 8s 125ms/step - loss: 8.1437e-04\n",
            "Epoch 59/100\n",
            "62/62 [==============================] - 8s 126ms/step - loss: 8.5391e-04\n",
            "Epoch 60/100\n",
            "62/62 [==============================] - 8s 125ms/step - loss: 8.5692e-04\n",
            "Epoch 61/100\n",
            "62/62 [==============================] - 8s 124ms/step - loss: 9.4711e-04\n",
            "Epoch 62/100\n",
            "62/62 [==============================] - 8s 124ms/step - loss: 8.2939e-04\n",
            "Epoch 63/100\n",
            "62/62 [==============================] - 8s 126ms/step - loss: 6.9155e-04\n",
            "Epoch 64/100\n",
            "62/62 [==============================] - 8s 128ms/step - loss: 8.5549e-04\n",
            "Epoch 65/100\n",
            "62/62 [==============================] - 8s 125ms/step - loss: 9.0005e-04\n",
            "Epoch 66/100\n",
            "62/62 [==============================] - 8s 127ms/step - loss: 7.1582e-04\n",
            "Epoch 67/100\n",
            "62/62 [==============================] - 8s 125ms/step - loss: 6.6974e-04\n",
            "Epoch 68/100\n",
            "62/62 [==============================] - 8s 125ms/step - loss: 9.2109e-04\n",
            "Epoch 69/100\n",
            "62/62 [==============================] - 8s 126ms/step - loss: 6.7487e-04\n",
            "Epoch 70/100\n",
            "62/62 [==============================] - 8s 127ms/step - loss: 6.7975e-04\n",
            "Epoch 71/100\n",
            "62/62 [==============================] - 8s 125ms/step - loss: 6.8246e-04\n",
            "Epoch 72/100\n",
            "62/62 [==============================] - 8s 125ms/step - loss: 7.0608e-04\n",
            "Epoch 73/100\n",
            "62/62 [==============================] - 8s 124ms/step - loss: 7.3769e-04\n",
            "Epoch 74/100\n",
            "62/62 [==============================] - 8s 124ms/step - loss: 7.9483e-04\n",
            "Epoch 75/100\n",
            "62/62 [==============================] - 8s 125ms/step - loss: 7.7882e-04\n",
            "Epoch 76/100\n",
            "62/62 [==============================] - 8s 126ms/step - loss: 6.9194e-04\n",
            "Epoch 77/100\n",
            "62/62 [==============================] - 8s 125ms/step - loss: 7.3503e-04\n",
            "Epoch 78/100\n",
            "62/62 [==============================] - 8s 126ms/step - loss: 8.1187e-04\n",
            "Epoch 79/100\n",
            "62/62 [==============================] - 8s 127ms/step - loss: 5.8639e-04\n",
            "Epoch 80/100\n",
            "62/62 [==============================] - 8s 126ms/step - loss: 6.5182e-04\n",
            "Epoch 81/100\n",
            "62/62 [==============================] - 8s 126ms/step - loss: 6.3943e-04\n",
            "Epoch 82/100\n",
            "62/62 [==============================] - 8s 127ms/step - loss: 6.5454e-04\n",
            "Epoch 83/100\n",
            "62/62 [==============================] - 8s 124ms/step - loss: 6.4487e-04\n",
            "Epoch 84/100\n",
            "62/62 [==============================] - 8s 126ms/step - loss: 6.7052e-04\n",
            "Epoch 85/100\n",
            "62/62 [==============================] - 8s 125ms/step - loss: 7.9957e-04\n",
            "Epoch 86/100\n",
            "62/62 [==============================] - 8s 126ms/step - loss: 6.1606e-04\n",
            "Epoch 87/100\n",
            "62/62 [==============================] - 8s 124ms/step - loss: 7.1735e-04\n",
            "Epoch 88/100\n",
            "62/62 [==============================] - 8s 125ms/step - loss: 6.2659e-04\n",
            "Epoch 89/100\n",
            "62/62 [==============================] - 8s 126ms/step - loss: 7.0148e-04\n",
            "Epoch 90/100\n",
            "62/62 [==============================] - 8s 127ms/step - loss: 7.0923e-04\n",
            "Epoch 91/100\n",
            "62/62 [==============================] - 8s 126ms/step - loss: 7.0535e-04\n",
            "Epoch 92/100\n",
            "62/62 [==============================] - 8s 125ms/step - loss: 6.6585e-04\n",
            "Epoch 93/100\n",
            "62/62 [==============================] - 8s 126ms/step - loss: 6.9437e-04\n",
            "Epoch 94/100\n",
            "62/62 [==============================] - 8s 124ms/step - loss: 7.4223e-04\n",
            "Epoch 95/100\n",
            "62/62 [==============================] - 8s 126ms/step - loss: 5.7476e-04\n",
            "Epoch 96/100\n",
            "62/62 [==============================] - 8s 126ms/step - loss: 6.0365e-04\n",
            "Epoch 97/100\n",
            "62/62 [==============================] - 8s 126ms/step - loss: 5.6760e-04\n",
            "Epoch 98/100\n",
            "62/62 [==============================] - 8s 126ms/step - loss: 5.5224e-04\n",
            "Epoch 99/100\n",
            "62/62 [==============================] - 8s 127ms/step - loss: 6.7995e-04\n",
            "Epoch 100/100\n",
            "62/62 [==============================] - 8s 126ms/step - loss: 7.2524e-04\n"
          ]
        },
        {
          "output_type": "execute_result",
          "data": {
            "text/plain": [
              "<keras.callbacks.History at 0x7f42f4748a10>"
            ]
          },
          "metadata": {},
          "execution_count": 12
        }
      ]
    },
    {
      "cell_type": "code",
      "metadata": {
        "id": "adEKLdBaTsFU"
      },
      "source": [
        "# Part 3 - Making the predictions and visualising the results\n",
        "\n",
        "# Getting the real stock price\n",
        "dataset_test = pd.read_csv('https://raw.githubusercontent.com/mwitiderrick/stockprice/master/tatatest.csv')\n",
        "real_stock_price = dataset_test.iloc[:, 1:2].values"
      ],
      "execution_count": null,
      "outputs": []
    },
    {
      "cell_type": "code",
      "metadata": {
        "id": "gEdbvydVTwJm"
      },
      "source": [
        "# Getting the predicted stock price\n",
        "dataset_total = pd.concat((dataset_train['Open'], dataset_test['Open']), axis = 0)\n",
        "inputs = dataset_total[len(dataset_total) - len(dataset_test) - 60:].values\n",
        "inputs = inputs.reshape(-1,1)\n",
        "inputs = sc.transform(inputs)\n",
        "X_test = []\n",
        "for i in range(60, 76):\n",
        "    X_test.append(inputs[i-60:i, 0])\n",
        "X_test = np.array(X_test)\n",
        "X_test = np.reshape(X_test, (X_test.shape[0], X_test.shape[1], 1))\n",
        "predicted_stock_price = regressor.predict(X_test)\n",
        "predicted_stock_price = sc.inverse_transform(predicted_stock_price)"
      ],
      "execution_count": null,
      "outputs": []
    },
    {
      "cell_type": "code",
      "metadata": {
        "colab": {
          "base_uri": "https://localhost:8080/",
          "height": 295
        },
        "id": "60iFJMzlTyuA",
        "outputId": "54787f10-72f6-4afe-c445-3a5c551b974a"
      },
      "source": [
        "# Visualising the results\n",
        "plt.plot(real_stock_price, color = 'red', label = 'Real Stock Price')\n",
        "plt.plot(predicted_stock_price, color = 'blue', label = 'Predicted Stock Price')\n",
        "plt.title('Stock Price Prediction')\n",
        "plt.xlabel('Time')\n",
        "plt.ylabel('Stock Price')\n",
        "plt.legend()\n",
        "plt.show()"
      ],
      "execution_count": null,
      "outputs": [
        {
          "output_type": "display_data",
          "data": {
            "image/png": "[encoded data removed]",
            "text/plain": [
              "<Figure size 432x288 with 1 Axes>"
            ]
          },
          "metadata": {
            "needs_background": "light"
          }
        }
      ]
    }
  ]
}